{
 "cells": [
  {
   "cell_type": "markdown",
   "metadata": {},
   "source": [
    "# MCP Server Guide for Biomni\n",
    "\n",
    "MCP servers connect external APIs to Biomni. This guide shows how to use the built-in servers and create your own."
   ]
  },
  {
   "cell_type": "code",
   "execution_count": null,
   "metadata": {},
   "outputs": [],
   "source": [
    "from biomni.agent import A1\n",
    "\n",
    "# Optional: Set email for PubMed\n",
    "# import os\n",
    "# os.environ.setdefault(\"NCBI_EMAIL\", \"Your email address\")\n",
    "\n",
    "agent = A1()\n",
    "agent.add_mcp(config_path=\"./mcp_config.yaml\")"
   ]
  },
  {
   "cell_type": "code",
   "execution_count": null,
   "metadata": {},
   "outputs": [],
   "source": [
    "result = agent.go(\"Please list all repositories in the github account of the user.\")"
   ]
  }
 ],
 "metadata": {
  "kernelspec": {
   "display_name": "Python 3",
   "language": "python",
   "name": "python3"
  },
  "language_info": {
   "codemirror_mode": {
    "name": "ipython",
    "version": 3
   },
   "file_extension": ".py",
   "mimetype": "text/x-python",
   "name": "python",
   "nbconvert_exporter": "python",
   "pygments_lexer": "ipython3",
   "version": "3.10.15"
  }
 },
 "nbformat": 4,
 "nbformat_minor": 2
}
