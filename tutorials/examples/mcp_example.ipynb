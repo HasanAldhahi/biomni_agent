{
 "cells": [
  {
   "cell_type": "code",
   "execution_count": null,
   "metadata": {},
   "outputs": [],
   "source": [
    "from biomni.agent import A1\n",
    "\n",
    "# import os\n",
    "# os.environ.setdefault(\"NCBI_EMAIL\", \"me@example.com\")\n",
    "\n",
    "agent = A1()\n",
    "agent.add_mcp(config_path=\"./mcp_config.yaml\")\n",
    "print(\n",
    "    agent.go(\n",
    "        \"Search PubMed for BRCA1 and list two paper titles with PMIDs. Must use pubmed_mcp, search_pubmed and get_article_abstract\"\n",
    "    )\n",
    ")"
   ]
  },
  {
   "cell_type": "code",
   "execution_count": null,
   "metadata": {},
   "outputs": [],
   "source": [
    "print(agent.go(\"I need to find FDA active ingredient information for the drug 'ibuprofen'.\"))"
   ]
  }
 ],
 "metadata": {
  "kernelspec": {
   "display_name": ".venv",
   "language": "python",
   "name": "python3"
  },
  "language_info": {
   "codemirror_mode": {
    "name": "ipython",
    "version": 3
   },
   "file_extension": ".py",
   "mimetype": "text/x-python",
   "name": "python",
   "nbconvert_exporter": "python",
   "pygments_lexer": "ipython3",
   "version": "3.11.11"
  }
 },
 "nbformat": 4,
 "nbformat_minor": 2
}
