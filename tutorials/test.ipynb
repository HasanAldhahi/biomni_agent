{
 "cells": [
  {
   "cell_type": "code",
   "execution_count": 1,
   "id": "fa97d911",
   "metadata": {},
   "outputs": [],
   "source": [
    "import sys\n",
    "\n",
    "sys.path.append(\"../\")\n",
    "\n",
    "from biomni.llm import get_llm\n",
    "\n",
    "llm = get_llm(\"gemini-2.0-flash\")"
   ]
  },
  {
   "cell_type": "code",
   "execution_count": 2,
   "id": "35b202fe",
   "metadata": {},
   "outputs": [
    {
     "data": {
      "text/plain": [
       "AIMessage(content='Hello! How can I help you today?', additional_kwargs={}, response_metadata={'prompt_feedback': {'block_reason': 0, 'safety_ratings': []}, 'finish_reason': 'STOP', 'model_name': 'gemini-2.0-flash', 'safety_ratings': []}, id='run--1267fc97-57d8-4443-84cb-e23f4f456e73-0', usage_metadata={'input_tokens': 1, 'output_tokens': 10, 'total_tokens': 11, 'input_token_details': {'cache_read': 0}})"
      ]
     },
     "execution_count": 2,
     "metadata": {},
     "output_type": "execute_result"
    }
   ],
   "source": [
    "llm.invoke(\"Hello\")"
   ]
  },
  {
   "cell_type": "code",
   "execution_count": 6,
   "id": "6c718b12",
   "metadata": {},
   "outputs": [
    {
     "name": "stdout",
     "output_type": "stream",
     "text": [
      "Data directory already exists: /dfs/project/bioagentos/biomni_data_test, loading...\n"
     ]
    }
   ],
   "source": [
    "import sys\n",
    "\n",
    "sys.path.append(\"../\")\n",
    "\n",
    "from biomni.agent import A1\n",
    "\n",
    "agent = A1(path=\"/dfs/project/bioagentos/biomni_data_test\", llm=\"gemini-2.0-flash\")"
   ]
  },
  {
   "cell_type": "code",
   "execution_count": 7,
   "id": "3ffbc31a",
   "metadata": {},
   "outputs": [
    {
     "name": "stdout",
     "output_type": "stream",
     "text": [
      "Using prompt-based retrieval with the agent's LLM\n",
      "================================\u001b[1m Human Message \u001b[0m=================================\n",
      "\n",
      "Plan a CRISPR screen to identify genes that regulate T cell exhaustion,\n",
      "        measured by the change in T cell receptor (TCR) signaling between acute\n",
      "        (interleukin-2 [IL-2] only) and chronic (anti-CD3 and IL-2) stimulation conditions.\n",
      "        Generate 32 genes that maximize the perturbation effect.\n",
      "parsing error...\n",
      "==================================\u001b[1m Ai Message \u001b[0m==================================\n",
      "\n",
      "There are no tags (e.g. <execute><solution>). Please follow the instruction, fix and update.\n",
      "parsing error...\n",
      "==================================\u001b[1m Ai Message \u001b[0m==================================\n",
      "\n",
      "There are no tags (e.g. <execute><solution>). Please follow the instruction, fix and update.\n",
      "parsing error...\n",
      "Detected repeated parsing errors, ending conversation\n",
      "==================================\u001b[1m Ai Message \u001b[0m==================================\n",
      "\n",
      "Execution terminated due to repeated parsing errors. Please check your input and try again.\n",
      "==================================\u001b[1m Ai Message \u001b[0m==================================\n",
      "\n",
      "Execution terminated due to repeated parsing errors. Please check your input and try again.\n"
     ]
    }
   ],
   "source": [
    "log = agent.go(\"\"\"Plan a CRISPR screen to identify genes that regulate T cell exhaustion,\n",
    "        measured by the change in T cell receptor (TCR) signaling between acute\n",
    "        (interleukin-2 [IL-2] only) and chronic (anti-CD3 and IL-2) stimulation conditions.\n",
    "        Generate 32 genes that maximize the perturbation effect.\"\"\")"
   ]
  },
  {
   "cell_type": "code",
   "execution_count": null,
   "id": "3f21bbe3",
   "metadata": {},
   "outputs": [],
   "source": []
  }
 ],
 "metadata": {
  "kernelspec": {
   "display_name": "biomni_e1",
   "language": "python",
   "name": "python3"
  },
  "language_info": {
   "codemirror_mode": {
    "name": "ipython",
    "version": 3
   },
   "file_extension": ".py",
   "mimetype": "text/x-python",
   "name": "python",
   "nbconvert_exporter": "python",
   "pygments_lexer": "ipython3",
   "version": "3.11.13"
  }
 },
 "nbformat": 4,
 "nbformat_minor": 5
}
